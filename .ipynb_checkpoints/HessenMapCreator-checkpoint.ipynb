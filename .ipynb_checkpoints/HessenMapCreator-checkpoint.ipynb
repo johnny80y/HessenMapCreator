{
 "cells": [
  {
   "cell_type": "markdown",
   "id": "09c53f13",
   "metadata": {},
   "source": [
    "# HessenMapCreator\n",
    "\n",
    "This Script will help you to create your very own visualization of Hessen.\n",
    "Just follow the instructions and provide a few pieces of information.\n",
    "All you really need is a .csv-file containing the postal codes where your markers / heat areas should be.\n",
    "\n",
    "Feedback is always appreciated"
   ]
  },
  {
   "cell_type": "code",
   "execution_count": null,
   "id": "67ef0d47",
   "metadata": {},
   "outputs": [],
   "source": []
  }
 ],
 "metadata": {
  "kernelspec": {
   "display_name": "Python 3",
   "language": "python",
   "name": "python3"
  },
  "language_info": {
   "codemirror_mode": {
    "name": "ipython",
    "version": 3
   },
   "file_extension": ".py",
   "mimetype": "text/x-python",
   "name": "python",
   "nbconvert_exporter": "python",
   "pygments_lexer": "ipython3",
   "version": "3.8.8"
  }
 },
 "nbformat": 4,
 "nbformat_minor": 5
}
